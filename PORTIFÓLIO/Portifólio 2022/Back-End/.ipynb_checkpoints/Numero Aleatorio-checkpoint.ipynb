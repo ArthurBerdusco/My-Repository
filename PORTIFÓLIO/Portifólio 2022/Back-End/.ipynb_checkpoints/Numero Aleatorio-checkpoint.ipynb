{
 "cells": [
  {
   "cell_type": "code",
   "execution_count": 2,
   "id": "1c901e65",
   "metadata": {},
   "outputs": [
    {
     "name": "stdout",
     "output_type": "stream",
     "text": [
      "Escolha um número entre 1 e 20: 10\n",
      "Sorry, guess again. Too high.\n",
      "Escolha um número entre 1 e 20: 5\n",
      "Sorry, guess again. Too high.\n",
      "Escolha um número entre 1 e 20: 4\n",
      "Sorry, guess again. Too high.\n",
      "Escolha um número entre 1 e 20: 3\n",
      "Sorry, guess again. Too high.\n",
      "Escolha um número entre 1 e 20: 2\n",
      "Sorry, guess again. Too high.\n",
      "Escolha um número entre 1 e 20: 1\n",
      "Yay, congrats. You have guessed the number 1 correctly!!\n"
     ]
    }
   ],
   "source": [
    "import random\n",
    "import tkinter\n",
    "\n",
    "\n",
    "\n",
    "#Jogo\n",
    "\n",
    "def guess(x):\n",
    "    random_number = random.randint(1, x)\n",
    "    guess = 0\n",
    "    while guess != random_number:\n",
    "        guess = int(input(f'Escolha um número entre 1 e {x}: '))\n",
    "        if guess < random_number:\n",
    "            print('Desculpe, escolha novamente. Muito baixo.')\n",
    "        elif guess > random_number:\n",
    "            print('Desculpe, escolha novamente. Muito alto')\n",
    "\n",
    "    print(f'Boa, par. You have guessed the number {random_number} correctly!!')\n",
    "\n",
    "\n",
    "guess(20)"
   ]
  },
  {
   "cell_type": "markdown",
   "id": "6ce4bfa6",
   "metadata": {},
   "source": []
  }
 ],
 "metadata": {
  "kernelspec": {
   "display_name": "Python 3 (ipykernel)",
   "language": "python",
   "name": "python3"
  },
  "language_info": {
   "codemirror_mode": {
    "name": "ipython",
    "version": 3
   },
   "file_extension": ".py",
   "mimetype": "text/x-python",
   "name": "python",
   "nbconvert_exporter": "python",
   "pygments_lexer": "ipython3",
   "version": "3.9.7"
  }
 },
 "nbformat": 4,
 "nbformat_minor": 5
}
