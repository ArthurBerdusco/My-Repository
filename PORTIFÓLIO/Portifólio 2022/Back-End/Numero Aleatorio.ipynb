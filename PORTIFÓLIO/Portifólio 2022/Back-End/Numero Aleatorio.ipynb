{
 "cells": [
  {
   "cell_type": "code",
   "execution_count": null,
   "id": "1c901e65",
   "metadata": {},
   "outputs": [
    {
     "name": "stdout",
     "output_type": "stream",
     "text": [
      "Boa, parabéns. Você escolheu o numero 1 corretamente!!\n",
      "Desculpe, escolha novamente. Muito baixo.\n",
      "Desculpe, escolha novamente. Muito baixo.\n",
      "Desculpe, escolha novamente. Muito baixo.\n",
      "Desculpe, escolha novamente. Muito baixo.\n",
      "Desculpe, escolha novamente. Muito baixo.\n",
      "Desculpe, escolha novamente. Muito baixo.\n",
      "Desculpe, escolha novamente. Muito baixo.\n"
     ]
    }
   ],
   "source": [
    "import tkinter as tk\n",
    "import random\n",
    "from tkinter import filedialog, messagebox, ttk\n",
    "import time\n",
    "\n",
    "\n",
    "#Front-End Tkinter\n",
    "\n",
    "root = tk.Tk()\n",
    "root.geometry(\"500x500\")\n",
    "root.pack_propagate(False)\n",
    "root.resizable(0, 0)\n",
    "\n",
    "\n",
    "\n",
    "menu = tk.LabelFrame(root, text=\"Menu\")\n",
    "menu.place(height=450, width=450, rely=0.04, relx=0.05)\n",
    "\n",
    "\n",
    "\n",
    "label_escolha = tk.Label(menu, text=\"Adivinhe um número entre 1 e \")\n",
    "label_escolha.place(rely=0.10, relx=0.18)\n",
    "box_escolha = tk.Entry(menu, width=8) \n",
    "box_escolha.place(rely=0.10, relx=0.56)\n",
    "\n",
    "\n",
    "\n",
    "enter = tk.Entry(menu, width=8)\n",
    "enter.place(rely=0.20, relx=0.48)\n",
    "\n",
    "button_enter = tk.Button(menu, text=\"Enter\", command=lambda: [guess()]) # TODO: Command\n",
    "button_enter.after(1)\n",
    "button_enter.place(rely=0.20, relx=0.31)\n",
    "\n",
    "func1 = 0\n",
    "func2 = 0\n",
    "\n",
    "#def valor():\n",
    " #   func1 = box_escolha.get() #ok #SETUP ENTRE\n",
    "  #  func2 = enter.get() #ok VALOR ESCOLHIDO\n",
    "\n",
    "#Back-End Jogo\n",
    "\n",
    "def guess():\n",
    "    func1 = box_escolha.get() #ok #SETUP ENTRE\n",
    "    func2 = enter.get() #ok VALOR ESCOLHIDO\n",
    "    random_number = random.randint(1, int(func1))\n",
    "    while int(func2) != random_number:\n",
    "        \n",
    "        if int(func2) < random_number:\n",
    "            time.sleep(1)\n",
    "            \n",
    "            print('Desculpe, escolha novamente. Muito baixo.')\n",
    "        \n",
    "        if int(func2) > random_number:\n",
    "            time.sleep(1)\n",
    "            print('Desculpe, escolha novamente. Muito alto')\n",
    "    \n",
    "        \n",
    "    print(f'Boa, parabéns. Você escolheu o numero {random_number} corretamente!!')\n",
    "\n",
    "root.mainloop()\n",
    "\n",
    "\n",
    "\n",
    "\n"
   ]
  },
  {
   "cell_type": "code",
   "execution_count": null,
   "id": "e558d365",
   "metadata": {},
   "outputs": [],
   "source": [
    "import random\n",
    "\n",
    "def guess(x):\n",
    "    random_number = random.randint(1, x)\n",
    "    guess = 0\n",
    "    while guess != random_number:\n",
    "        guess = int(input(f'Guess a number between 1 and {x}: '))\n",
    "        if guess < random_number:\n",
    "            print('Sorry, guess again. Too low.')\n",
    "        elif guess > random_number:\n",
    "            print('Sorry, guess again. Too high.')\n",
    "\n",
    "    print(f'Yay, congrats. You have guessed the number {random_number} correctly!!')\n",
    "\n",
    "guess(4)"
   ]
  },
  {
   "cell_type": "code",
   "execution_count": 2,
   "id": "9440078a",
   "metadata": {},
   "outputs": [
    {
     "ename": "IndentationError",
     "evalue": "unindent does not match any outer indentation level (<tokenize>, line 12)",
     "output_type": "error",
     "traceback": [
      "\u001b[1;36m  File \u001b[1;32m\"<tokenize>\"\u001b[1;36m, line \u001b[1;32m12\u001b[0m\n\u001b[1;33m    def new(self):\u001b[0m\n\u001b[1;37m    ^\u001b[0m\n\u001b[1;31mIndentationError\u001b[0m\u001b[1;31m:\u001b[0m unindent does not match any outer indentation level\n"
     ]
    }
   ],
   "source": [
    "def handle_death(self):\n",
    "    death = tk.Tk()\n",
    "    death.title(\"You Have Died\")\n",
    "    label = tk.Label(death, text=\"Would You Like to Restart?\")\n",
    "    label.pack(side=tk.TOP, pady=10, padx=10)\n",
    "    death_button = tk.Frame(death)\n",
    "    deny = tk.Button(death_button, text=\"No\", command=lambda: [self.close(), death.destroy()])\n",
    "    configure = tk.Button(death_button, text=\"Yes\", command=lambda: [self.new(), death.destroy()])\n",
    "    configure.pack(side=tk.LEFT)\n",
    "    deny.pack(side=tk.LEFT)\n",
    "    death_button.pack(side=tk.BOTTOM)\n",
    " def new(self):\n",
    "    \"\"\" Creates a new game.\"\"\"\n",
    "    self._world = World((GRID_WIDTH, GRID_HEIGHT), BLOCK_SIZE)\n",
    "    load_simple_world(self._world)\n",
    "    self._world.add_player(self._player, 250, 150)\n",
    "    self._hot_bar.select((0, 0))\n",
    "    starting_inventory = [\n",
    "        ((1, 5), Stack(Item('dirt'), 10)),\n",
    "        ((0, 2), Stack(Item('wood'), 10)),\n",
    "    ]\n",
    "    self._inventory = Grid(rows=3, columns=10)\n",
    "    for position, stack in starting_inventory:\n",
    "        self._inventory[position] = stack\n",
    "\n",
    "    self._health = 1\n",
    "    self._food = 1\n",
    "    self._update_health(self._health)\n",
    "    self._update_food(self._food)"
   ]
  },
  {
   "cell_type": "code",
   "execution_count": null,
   "id": "2f2e2baa",
   "metadata": {},
   "outputs": [],
   "source": []
  }
 ],
 "metadata": {
  "kernelspec": {
   "display_name": "Python 3 (ipykernel)",
   "language": "python",
   "name": "python3"
  },
  "language_info": {
   "codemirror_mode": {
    "name": "ipython",
    "version": 3
   },
   "file_extension": ".py",
   "mimetype": "text/x-python",
   "name": "python",
   "nbconvert_exporter": "python",
   "pygments_lexer": "ipython3",
   "version": "3.9.7"
  }
 },
 "nbformat": 4,
 "nbformat_minor": 5
}
